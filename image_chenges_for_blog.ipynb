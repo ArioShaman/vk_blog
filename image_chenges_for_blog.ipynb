{
 "cells": [
  {
   "cell_type": "code",
   "execution_count": 3,
   "metadata": {
    "collapsed": false
   },
   "outputs": [
    {
     "name": "stdout",
     "output_type": "stream",
     "text": [
      "(840, 560)\n"
     ]
    }
   ],
   "source": [
    "\n",
    "# -*- coding: utf-8 -*-\n",
    "import ImageFont\n",
    "import Image\n",
    "import ImageDraw\n",
    "\n",
    "name_photo = 'beach_1'\n",
    "end = 'jpeg'\n",
    "image = Image.open('Images/stock/%s.%s'%(name_photo,end),'r')\n",
    "image.thumbnail((900,560), Image.NEAREST)\n",
    "data = image.size\n",
    "print data\n",
    "image.save(\"Images/chenges/%s.png\"%name_photo)\n"
   ]
  },
  {
   "cell_type": "code",
   "execution_count": 57,
   "metadata": {
    "collapsed": false
   },
   "outputs": [
    {
     "name": "stdout",
     "output_type": "stream",
     "text": [
      "(880, 600)\n"
     ]
    }
   ],
   "source": [
    "square = Image.new('RGB',(880,600),(255,192,21))\n",
    "print square.size\n",
    "square.save('Images/square.png')"
   ]
  },
  {
   "cell_type": "code",
   "execution_count": 4,
   "metadata": {
    "collapsed": false
   },
   "outputs": [],
   "source": [
    "img1 = Image.open('Images/square.png')\n",
    "img2 = Image.open('Images/chenges/%s.png'%name_photo)\n",
    "img1.paste(img2,(20,20))\n",
    "img1.save('Images/chenges/%s_ch.png'%name_photo)"
   ]
  },
  {
   "cell_type": "code",
   "execution_count": 10,
   "metadata": {
    "collapsed": false
   },
   "outputs": [],
   "source": [
    "image = Image.open('Images/chenges/%s_ch.png'%name_photo)\n",
    "\n",
    "text = u'НАЧНИ СЕЙЧАС!!!'\n",
    "font = ImageFont.truetype(\"Fonts/journalism.ttf\", 75)\n",
    "draw = ImageDraw.Draw(image)\n",
    "draw.text([270,200], text,font=font, fill=(255,243,243))\n",
    "\n",
    "image.save('Images/forBlog/%s_vk.png'%name_photo)"
   ]
  }
 ],
 "metadata": {
  "kernelspec": {
   "display_name": "Python 2",
   "language": "python",
   "name": "python2"
  },
  "language_info": {
   "codemirror_mode": {
    "name": "ipython",
    "version": 2
   },
   "file_extension": ".py",
   "mimetype": "text/x-python",
   "name": "python",
   "nbconvert_exporter": "python",
   "pygments_lexer": "ipython2",
   "version": "2.7.10"
  }
 },
 "nbformat": 4,
 "nbformat_minor": 0
}
