{
 "cells": [
  {
   "cell_type": "code",
   "execution_count": 28,
   "metadata": {
    "collapsed": true
   },
   "outputs": [],
   "source": [
    "#import library\n",
    "import urllib\n",
    "import urllib2\n",
    "import requests\n",
    "import json\n",
    "import os.path\n",
    "import os"
   ]
  },
  {
   "cell_type": "code",
   "execution_count": 2,
   "metadata": {
    "collapsed": true
   },
   "outputs": [],
   "source": [
    "user_token = 'f1eb3f8adae8f7822d2130cb445d5629c6f3bb0886225eb7322f5d7491b5ad0ac2f47b3772cbc835228da'"
   ]
  },
  {
   "cell_type": "code",
   "execution_count": 46,
   "metadata": {
    "collapsed": false
   },
   "outputs": [
    {
     "data": {
      "text/plain": [
       "(u'[{\"photo\":\"f50111ab85:w\",\"sizes\":[[\"s\",\"631628022\",\"3649e\",\"nNA_h-Ijt-M\",63,75],[\"m\",\"631628022\",\"3649f\",\"ZfHViMYv3Dg\",110,130],[\"x\",\"631628022\",\"364a0\",\"Nl70O-WK62E\",513,604],[\"y\",\"631628022\",\"364a1\",\"kTxreGFXytc\",686,807],[\"z\",\"631628022\",\"364a2\",\"etlPis6H70o\",918,1080],[\"w\",\"631628022\",\"364a3\",\"SJM0-OV8-Mg\",1417,1667],[\"o\",\"631628022\",\"364a4\",\"yJ8h23wrL8w\",130,153],[\"p\",\"631628022\",\"364a5\",\"rmL_kp68k8E\",200,235],[\"q\",\"631628022\",\"364a6\",\"ZQo6lYTGyVM\",320,376],[\"r\",\"631628022\",\"364a7\",\"0W3x4RNFLAU\",510,600]],\"kid\":\"98dffb4026c00d808bf692cb5b365774\",\"debug\":\"xswmwxwywzwwwowpwqwrw\"}]',\n",
       " 631628,\n",
       " u'63e529a9f5daab23943332f34e21ab41')"
      ]
     },
     "execution_count": 46,
     "metadata": {},
     "output_type": "execute_result"
    }
   ],
   "source": [
    "user_token = 'f1eb3f8adae8f7822d2130cb445d5629c6f3bb0886225eb7322f5d7491b5ad0ac2f47b3772cbc835228da'\n",
    "group_id = '-124369270'\n",
    "file_photo = 'grow.png'\n",
    "def get_server(token,group_id):\n",
    "    query_args = {'group_id':group_id,'access_token':user_token}\n",
    "    url = 'https://api.vk.com/method/photos.getWallUploadServer'\n",
    "    data = urllib.urlencode(query_args)\n",
    "    request = urllib2.Request(url,data)\n",
    "    response = urllib2.urlopen(request)\n",
    "    serv_data = response.read()\n",
    "    datas = json.loads(serv_data)\n",
    "    album_id = datas['response']['aid']\n",
    "    user_id = datas['response']['mid']\n",
    "    upload_url = datas['response']['upload_url']\n",
    "    return album_id, user_id, upload_url\n",
    "    \n",
    "\n",
    "\n",
    "def load_img(name):\n",
    "    dirrectory_half = '/home/user/myproject/vk_blog/Images'\n",
    "    name = file_photo\n",
    "    album_id, user_id, upload_url =get_server(user_token,group_id)\n",
    "    dir_file =os.path.join(dirrectory_half,file_photo)\n",
    "    load = {'file':open(file_photo,'rb')}\n",
    "    r = requests.post(upload_url, files = load)\n",
    "    server_data = r.json()\n",
    "    #print server_data\n",
    "    server = server_data['server']\n",
    "    photo = server_data['photo']\n",
    "    hash_photo = server_data['hash']\n",
    "    return photo, server, hash_photo\n",
    "    print 'photo:',photo\n",
    "    print 'server:  ',server\n",
    "    print 'hash:  ',hash_photo  \n",
    "\n",
    "load_img(file_photo)"
   ]
  },
  {
   "cell_type": "code",
   "execution_count": 100,
   "metadata": {
    "collapsed": false
   },
   "outputs": [
    {
     "name": "stdout",
     "output_type": "stream",
     "text": [
      "7ec5b3a9ccdcad31e7b2cdfa30a281d7\n",
      "********************\n"
     ]
    }
   ],
   "source": [
    "def add_photo():\n",
    "    photo, server, hash_photo = load_img(file_photo)\n",
    "    #print photo, server, hash_photo\n",
    "    #print '*'*20\n",
    "    print hash_photo\n",
    "    print'*'*20\n",
    "    data_photo = load_img(file_photo)\n",
    "    url = 'https://api.vk.com/method/photos.saveWallPhoto'\n",
    "    args_f = {'group_id':'124369270','photo':photo,'server':server,'hash':hash_photo,'access_token':user_token}\n",
    "    data = requests.get(url, args_f)\n",
    "    html = json.JSONEncoder(data)\n",
    "    print html\n",
    "    \n",
    "ph = add_photo()\n"
   ]
  },
  {
   "cell_type": "code",
   "execution_count": 66,
   "metadata": {
    "collapsed": false
   },
   "outputs": [
    {
     "name": "stdout",
     "output_type": "stream",
     "text": [
      "1e474dd02831205361ee71e60ef9f6c1\n"
     ]
    }
   ],
   "source": [
    "photo = load_img(file_photo)\n",
    "print photo[2]"
   ]
  }
 ],
 "metadata": {
  "kernelspec": {
   "display_name": "Python 2",
   "language": "python",
   "name": "python2"
  },
  "language_info": {
   "codemirror_mode": {
    "name": "ipython",
    "version": 2
   },
   "file_extension": ".py",
   "mimetype": "text/x-python",
   "name": "python",
   "nbconvert_exporter": "python",
   "pygments_lexer": "ipython2",
   "version": "2.7.10"
  }
 },
 "nbformat": 4,
 "nbformat_minor": 0
}
