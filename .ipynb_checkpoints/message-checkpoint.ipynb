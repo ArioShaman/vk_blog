{
 "cells": [
  {
   "cell_type": "code",
   "execution_count": null,
   "metadata": {
    "collapsed": true
   },
   "outputs": [],
   "source": [
    "#f6bf5f25e0098ee539ee159bbe2e2f49cafcc1a2923a3ed61d7505dbcb3ff127e57ddb859d56c0f8c072c"
   ]
  },
  {
   "cell_type": "code",
   "execution_count": null,
   "metadata": {
    "collapsed": true
   },
   "outputs": [],
   "source": [
    "# coding= utf-8\n",
    "# -*- coding: utf-8 -*-\n",
    "import requests\n",
    "\n",
    "r = requests.get('https://api.vk.com/method/wall.post', params={'owner_id':'124369270','from_group':1,'message':'tgfdgfdest','access_token':'aaa620316385f38c3ed9e386a33751d076883445b56a76cd9afb533f0820e401bcbd70399d99d1325c96c'})\n",
    "data = r.json()\n",
    "print data"
   ]
  }
 ],
 "metadata": {
  "kernelspec": {
   "display_name": "Python 2",
   "language": "python",
   "name": "python2"
  },
  "language_info": {
   "codemirror_mode": {
    "name": "ipython",
    "version": 2
   },
   "file_extension": ".py",
   "mimetype": "text/x-python",
   "name": "python",
   "nbconvert_exporter": "python",
   "pygments_lexer": "ipython2",
   "version": "2.7.10"
  }
 },
 "nbformat": 4,
 "nbformat_minor": 0
}
