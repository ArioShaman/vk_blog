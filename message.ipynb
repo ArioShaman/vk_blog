{
 "cells": [
  {
   "cell_type": "code",
   "execution_count": 14,
   "metadata": {
    "collapsed": false
   },
   "outputs": [],
   "source": [
    "user_id = '246933022'\n",
    "access_token = 'f6bf5f25e0098ee539ee159bbe2e2f49cafcc1a2923a3ed61d7505dbcb3ff127e57ddb859d56c0f8c072c'"
   ]
  },
  {
   "cell_type": "code",
   "execution_count": 12,
   "metadata": {
    "collapsed": true
   },
   "outputs": [],
   "source": [
    "#import library\n",
    "import urllib\n",
    "import urllib2\n",
    "import requests\n",
    "import json\n",
    "import os.path\n",
    "import os\n",
    "import re"
   ]
  },
  {
   "cell_type": "code",
   "execution_count": 13,
   "metadata": {
    "collapsed": false
   },
   "outputs": [
    {
     "name": "stdout",
     "output_type": "stream",
     "text": [
      "{u'response': {u'count': 2, u'users': [246933022, 375920327]}}\n"
     ]
    }
   ],
   "source": [
    "# -*- coding: utf-8 -*-\n",
    "import requests\n",
    "\n",
    "r = requests.get('https://api.vk.com/method/groups.getMembers', params={'group_id':'grow_up_together','sort':'time_asc','count':'10','access_token':access_token})\n",
    "data = r.json()\n",
    "print data\n"
   ]
  },
  {
   "cell_type": "code",
   "execution_count": 15,
   "metadata": {
    "collapsed": false
   },
   "outputs": [
    {
     "name": "stdout",
     "output_type": "stream",
     "text": [
      "{u'response': 19}\n"
     ]
    }
   ],
   "source": [
    "req = requests.get('https://api.vk.com/method/messages.send', params={'user_id':user_id,'message':u'привет','access_token':access_token})\n",
    "data = req.json()\n",
    "print data"
   ]
  }
 ],
 "metadata": {
  "kernelspec": {
   "display_name": "Python 2",
   "language": "python",
   "name": "python2"
  },
  "language_info": {
   "codemirror_mode": {
    "name": "ipython",
    "version": 2
   },
   "file_extension": ".py",
   "mimetype": "text/x-python",
   "name": "python",
   "nbconvert_exporter": "python",
   "pygments_lexer": "ipython2",
   "version": "2.7.10"
  }
 },
 "nbformat": 4,
 "nbformat_minor": 0
}
