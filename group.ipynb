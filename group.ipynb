{
 "cells": [
  {
   "cell_type": "code",
   "execution_count": 14,
   "metadata": {
    "collapsed": false
   },
   "outputs": [
    {
     "name": "stdout",
     "output_type": "stream",
     "text": [
      "{u'error': {u'error_code': 15, u'error_msg': u'Access denied: no access to call this method', u'request_params': [{u'value': u'1', u'key': u'oauth'}, {u'value': u'wall.post', u'key': u'method'}, {u'value': u'tgfdgfdest', u'key': u'message'}, {u'value': u'1', u'key': u'from_group'}, {u'value': u'124369270', u'key': u'owner_id'}]}}\n"
     ]
    }
   ],
   "source": [
    "# coding= utf-8\n",
    "# -*- coding: utf-8 -*-\n",
    "import requests\n",
    "\n",
    "r = requests.get('https://api.vk.com/method/wall.post', params={'owner_id':'124369270','from_group':1,'message':'tgfdgfdest','access_token':'aaa620316385f38c3ed9e386a33751d076883445b56a76cd9afb533f0820e401bcbd70399d99d1325c96c'})\n",
    "data = r.json()\n",
    "print data"
   ]
  },
  {
   "cell_type": "code",
   "execution_count": 9,
   "metadata": {
    "collapsed": true
   },
   "outputs": [],
   "source": [
    "#https://oauth.vk.com/authorize?client_id=5525208&groups_ids=124369270&display=page&redirect_uri=https://oauth.vk.com/blank.html&scope=manage,messages,photos,docs,wall,groups,friends&response_type=token"
   ]
  },
  {
   "cell_type": "markdown",
   "metadata": {},
   "source": [
    "# get token"
   ]
  },
  {
   "cell_type": "code",
   "execution_count": 79,
   "metadata": {
    "collapsed": false
   },
   "outputs": [
    {
     "name": "stdout",
     "output_type": "stream",
     "text": [
      "<Response [200]>\n"
     ]
    }
   ],
   "source": [
    "args_tok = {'client_id':'5525208',\n",
    "           'display':'page',\n",
    "            'redirect_uri':'https://oauth.vk.com/blank.html',\n",
    "           'scope':'groups,photos,wall,friends',\n",
    "           'response_type':'token'}\n",
    "request = requests.('https://oauth.vk.com/authorize',params = args_tok)\n",
    "print request"
   ]
  },
  {
   "cell_type": "code",
   "execution_count": null,
   "metadata": {
    "collapsed": true
   },
   "outputs": [],
   "source": [
    "#group_id = 124369270"
   ]
  },
  {
   "cell_type": "code",
   "execution_count": 77,
   "metadata": {
    "collapsed": false
   },
   "outputs": [
    {
     "name": "stdout",
     "output_type": "stream",
     "text": [
      "{u'error': {u'error_code': 5, u'error_msg': u'User authorization failed: no access_token passed.', u'request_params': [{u'value': u'1', u'key': u'oauth'}, {u'value': u'wall.post', u'key': u'method'}, {u'value': u'test', u'key': u'message'}, {u'value': u'df3392ea177c621cb775c0ac20fc173848894a0b3884754fbcf433336b5824a747553de2cb06376245b91', u'key': u'access_token_124369270'}, {u'value': u'1', u'key': u'from_group'}, {u'value': u'ariosha6', u'key': u'owner_id'}]}}\n"
     ]
    }
   ],
   "source": [
    "acces_r = requests.get('http://api.vk.com/method/wall.post', params={'owner_id':'ariosha6','from_group':1,'message':'test','access_token_124369270':'df3392ea177c621cb775c0ac20fc173848894a0b3884754fbcf433336b5824a747553de2cb06376245b91'}).json()\n",
    "print acces_r"
   ]
  },
  {
   "cell_type": "code",
   "execution_count": 76,
   "metadata": {
    "collapsed": false
   },
   "outputs": [
    {
     "name": "stdout",
     "output_type": "stream",
     "text": [
      "{u'error': {u'error_code': 5, u'error_msg': u'User authorization failed: no access_token passed.', u'request_params': [{u'value': u'1', u'key': u'oauth'}, {u'value': u'wall.post', u'key': u'method'}, {u'value': u'test', u'key': u'message'}, {u'value': u'df3392ea177c621cb775c0ac20fc173848894a0b3884754fbcf433336b5824a747553de2cb06376245b91', u'key': u'access_token_124369270'}, {u'value': u'1', u'key': u'from_group'}, {u'value': u'124369270', u'key': u'owner_id'}]}}\n"
     ]
    }
   ],
   "source": [
    "import requests\n",
    "#acces_r = requests.get('http://api.vk.com/method/wall.post', params={'owner_id':'124369270','from_group':1,'message':'test','access_token_124369270':access_token}).json()\n",
    "\n",
    "acces_r_2 = requests.get('http://api.vk.com/method/groups.getById', params={'group_id':'124369270','from_group':1,'message':'test','access_token_124369270':'df3392ea177c621cb775c0ac20fc173848894a0b3884754fbcf433336b5824a747553de2cb06376245b91'})\n",
    "acces_r_2.json()\n",
    "print acces_r"
   ]
  },
  {
   "cell_type": "code",
   "execution_count": 6,
   "metadata": {
    "collapsed": false
   },
   "outputs": [
    {
     "name": "stdout",
     "output_type": "stream",
     "text": [
      "{\"response\":{\"post_id\":8}}\n"
     ]
    }
   ],
   "source": [
    "import urllib\n",
    "import urllib2\n",
    "user_token = 'f1eb3f8adae8f7822d2130cb445d5629c6f3bb0886225eb7322f5d7491b5ad0ac2f47b3772cbc835228da'\n",
    "access_token = '2f4a150180a34b983f8b8e5000bd24b7e0a5b60feb47f09576f3b060a3d0586e630964ecd3b077516570b'\n",
    "url = 'https://api.vk.com/method/wall.post'\n",
    "query_args = {'owner_id':'-124369270','from_group':1,'message':'tgfdgfdest','access_token':user_token} \n",
    "data = urllib.urlencode(query_args)\n",
    "request = urllib2.Request(url,data)\n",
    "response = urllib2.urlopen(request)\n",
    "html = response.read()\n",
    "print html"
   ]
  },
  {
   "cell_type": "code",
   "execution_count": 16,
   "metadata": {
    "collapsed": false
   },
   "outputs": [
    {
     "data": {
      "text/plain": [
       "\"\\nuser_token = '13404be26a7ed10c404c87e60485aecfe26232eae966883700286804cf4b151272fe0de5ee24df008fa70'\\naccess_token = '2f4a150180a34b983f8b8e5000bd24b7e0a5b60feb47f09576f3b060a3d0586e630964ecd3b077516570b'\\nurl = 'https://api.vk.com/method/groups.get'\\nquery_args = {'user_id':'246933022','extended':1,'filter':'admin','count':4,'access_token':user_token} \\ndata = urllib.urlencode(query_args)\\nrequest = urllib2.Request(url,data)\\nresponse = urllib2.urlopen(request)\\nhtml = response.read()\\nprint html\\n\""
      ]
     },
     "execution_count": 16,
     "metadata": {},
     "output_type": "execute_result"
    }
   ],
   "source": [
    "import urllib\n",
    "import urllib2\n",
    "\"\"\"\n",
    "user_token = '13404be26a7ed10c404c87e60485aecfe26232eae966883700286804cf4b151272fe0de5ee24df008fa70'\n",
    "access_token = '2f4a150180a34b983f8b8e5000bd24b7e0a5b60feb47f09576f3b060a3d0586e630964ecd3b077516570b'\n",
    "url = 'https://api.vk.com/method/groups.get'\n",
    "query_args = {'user_id':'246933022','extended':1,'filter':'admin','count':4,'access_token':user_token} \n",
    "data = urllib.urlencode(query_args)\n",
    "request = urllib2.Request(url,data)\n",
    "response = urllib2.urlopen(request)\n",
    "html = response.read()\n",
    "print html\n",
    "\"\"\""
   ]
  },
  {
   "cell_type": "code",
   "execution_count": 4,
   "metadata": {
    "collapsed": false
   },
   "outputs": [],
   "source": [
    "import urllib\n",
    "import urllib2\n",
    "\n",
    "params = {'client_id':'5525208','display':'page','redirect_uri':'https://oauth.vk.com/blank.html','scope':'docs,photos,groups,wall','response_type':'token','state':'12345'}\n",
    "url = 'https://oauth.vk.com/authorize'\n",
    "#r = requests('https://oauth.vk.com/authorize', params = {'client_id':'5525208','display':'page','redirect_uri':'https://oauth.vk.com/blank.html','scope':'docs,photos,groups,wall','response_type':'token','state':'12345'})\n",
    "data = urllib.urlencode(params)\n",
    "request = urllib2.Request(url,data)\n",
    "response = urllib2.urlopen(request)\n",
    "html = response.read()\n",
    "#print html"
   ]
  },
  {
   "cell_type": "code",
   "execution_count": 27,
   "metadata": {
    "collapsed": false
   },
   "outputs": [
    {
     "name": "stdout",
     "output_type": "stream",
     "text": [
      "{\"response\":{\"upload_url\":\"http:\\/\\/cs631628.vk.com\\/upload.php?act=do_add&mid=246933022&aid=-14&gid=-124369270&hash=091458cce41d3e2a14b7ae22d26672b0&rhash=2dad2dd171faf3e08d132cf8794003b5&swfupload=1&api=1&wallphoto=1\",\"aid\":-14,\"mid\":246933022}}\n",
      "********************\n",
      "-14 246933022 http://cs631628.vk.com/upload.php?act=do_add&mid=246933022&aid=-14&gid=-124369270&hash=091458cce41d3e2a14b7ae22d26672b0&rhash=2dad2dd171faf3e08d132cf8794003b5&swfupload=1&api=1&wallphoto=1\n"
     ]
    }
   ],
   "source": [
    "import urllib\n",
    "import urllib2\n",
    "import json\n",
    "user_token = 'f1eb3f8adae8f7822d2130cb445d5629c6f3bb0886225eb7322f5d7491b5ad0ac2f47b3772cbc835228da'\n",
    "url = 'https://api.vk.com/method/photos.getWallUploadServer'\n",
    "query_args = {'group_id':'-124369270','access_token':user_token}\n",
    "data = urllib.urlencode(query_args)\n",
    "request = urllib2.Request(url,data)\n",
    "response = urllib2.urlopen(request)\n",
    "html = response.read()\n",
    "print html\n",
    "datas = json.loads(html)\n",
    "album_id = datas['response']['aid']\n",
    "user_id = datas['response']['mid']\n",
    "upload_url = datas['response']['upload_url']\n",
    "print '*'*20\n",
    "print album_id, user_id, upload_url"
   ]
  },
  {
   "cell_type": "code",
   "execution_count": 52,
   "metadata": {
    "collapsed": false
   },
   "outputs": [
    {
     "name": "stdout",
     "output_type": "stream",
     "text": [
      "********************\n",
      "-14 246933022 http://cs631628.vk.com/upload.php?act=do_add&mid=246933022&aid=-14&gid=-124369270&hash=091458cce41d3e2a14b7ae22d26672b0&rhash=2dad2dd171faf3e08d132cf8794003b5&swfupload=1&api=1&wallphoto=1\n",
      "<Response [200]>\n",
      "{u'photo': u'[{\"photo\":\"56e79b1af8:w\",\"sizes\":[[\"s\",\"631628022\",\"36494\",\"NhA_zZNOBr4\",63,75],[\"m\",\"631628022\",\"36495\",\"P1IlrdaDMwQ\",110,130],[\"x\",\"631628022\",\"36496\",\"0aBjP5tjs-U\",513,604],[\"y\",\"631628022\",\"36497\",\"80n1kUBGoRo\",686,807],[\"z\",\"631628022\",\"36498\",\"uwVKYlOv3I8\",918,1080],[\"w\",\"631628022\",\"36499\",\"tABn84P35Fk\",1417,1667],[\"o\",\"631628022\",\"3649a\",\"0oRUsWIFpLk\",130,153],[\"p\",\"631628022\",\"3649b\",\"T83p9YPQnLQ\",200,235],[\"q\",\"631628022\",\"3649c\",\"l9jn4HOXVBY\",320,376],[\"r\",\"631628022\",\"3649d\",\"NpDHZMwRhhI\",510,600]],\"kid\":\"98dffb4026c00d808bf692cb5b365774\",\"debug\":\"xswmwxwywzwwwowpwqwrw\"}]', u'hash': u'f1313a2927931fddfbb426d5cb85b257', u'server': 631628}\n",
      "********************\n",
      "{u'error': {u'error_code': 121, u'error_msg': u'Invalid hash', u'request_params': [{u'value': u'1', u'key': u'oauth'}, {u'value': u'photos.saveWallPhoto', u'key': u'method'}, {u'value': u'[{\"photo\":\"56e79b1af8:w\",\"sizes\":[[\"s\",\"631628022\",\"36494\",\"NhA_zZNOBr4\",63,75],[\"m\",\"631628022\",\"36495\",\"P1IlrdaDMwQ\",110,130],[\"x\",\"631628022\",\"36496\",\"0aBjP5tjs-U\",513,604],[\"y\",\"631628022\",\"36497\",\"80n1kUBGoRo\",686,807],[\"z\",\"631628022\",\"36498\",\"uwVKYlOv3I8\",918,1080],[\"w\",\"631628022\",\"36499\",\"tABn84P35Fk\",1417,1667],[\"o\",\"631628022\",\"3649a\",\"0oRUsWIFpLk\",130,153],[\"p\",\"631628022\",\"3649b\",\"T83p9YPQnLQ\",200,235],[\"q\",\"631628022\",\"3649c\",\"l9jn4HOXVBY\",320,376],[\"r\",\"631628022\",\"3649d\",\"NpDHZMwRhhI\",510,600]],\"kid\":\"98dffb4026c00d808bf692cb5b365774\",\"debug\":\"xswmwxwywzwwwowpwqwrw\"}]', u'key': u'photo'}, {u'value': u'124369270', u'key': u'group_id'}, {u'value': u'f1313a2927931fddfbb426d5cb85b257', u'key': u'hash'}, {u'value': u'631628', u'key': u'server'}]}}\n"
     ]
    }
   ],
   "source": [
    "#load_img\n",
    "import os.path\n",
    "import requests\n",
    "import json\n",
    "\n",
    "user_token = 'f1eb3f8adae8f7822d2130cb445d5629c6f3bb0886225eb7322f5d7491b5ad0ac2f47b3772cbc835228da'\n",
    "url = 'https://api.vk.com/method/photos.getWallUploadServer'\n",
    "query_args = {'group_id':'-124369270','access_token':user_token}\n",
    "data = urllib.urlencode(query_args)\n",
    "request = urllib2.Request(url,data)\n",
    "response = urllib2.urlopen(request)\n",
    "html = response.read()\n",
    "#print html\n",
    "datas = json.loads(html)\n",
    "album_id = datas['response']['aid']\n",
    "user_id = datas['response']['mid']\n",
    "upload_url = datas['response']['upload_url']\n",
    "print '*'*20\n",
    "print album_id, user_id, upload_url\n",
    "\n",
    "dirrectory_half = '/home/user/myproject/vk_blog'\n",
    "file_photo = 'grow.png'\n",
    "dir_file =os.path.join(dirrectory_half,file_photo)\n",
    "files = {'file':open(file_photo,'rb')}\n",
    "r = requests.post(upload_url, files = files)\n",
    "print r\n",
    "server_data = r.json()\n",
    "print server_data\n",
    "server = server_data[\"server\"]\n",
    "photo = server_data['photo']\n",
    "hash_photo = server_data['hash']\n",
    "print '*'*20\n",
    "#print 'photo:',photo\n",
    "#print 'server:  ',server\n",
    "#print 'hash:  ',hash_photo\n",
    "\n",
    "url = 'https://api.vk.com/method/photos.saveWallPhoto'\n",
    "args_f = {'group_id':'124369270','photo':photo,'server':server,'hash':hash_photo,'access_token':user_token}\n",
    "load_photo = requests.get(url, params = args_f)\n",
    "ph = load_photo.json()\n",
    "print ph"
   ]
  },
  {
   "cell_type": "code",
   "execution_count": 30,
   "metadata": {
    "collapsed": false
   },
   "outputs": [
    {
     "name": "stdout",
     "output_type": "stream",
     "text": [
      "{u'error': {u'error_code': 121, u'error_msg': u'Invalid hash', u'request_params': [{u'value': u'1', u'key': u'oauth'}, {u'value': u'photos.saveWallPhoto', u'key': u'method'}, {u'value': u'[{\"photo\":\"963e37ad7a:w\",\"sizes\":[[\"s\",\"631628022\",\"36142\",\"u0-hZPAbAlE\",63,75],[\"m\",\"631628022\",\"36143\",\"S2Jq06sbniU\",110,130],[\"x\",\"631628022\",\"36144\",\"rzJlaLxeqe8\",513,604],[\"y\",\"631628022\",\"36145\",\"EG012yCvD4w\",686,807],[\"z\",\"631628022\",\"36146\",\"j8Skldv8hv0\",918,1080],[\"w\",\"631628022\",\"36147\",\"sgWXUy2k6NM\",1417,1667],[\"o\",\"631628022\",\"36148\",\"rE63HIWGyRY\",130,153],[\"p\",\"631628022\",\"36149\",\"45ORp2eGogA\",200,235],[\"q\",\"631628022\",\"3614a\",\"ZeTYqqjtLgg\",320,376],[\"r\",\"631628022\",\"3614b\",\"qh0ja-40fpY\",510,600]],\"kid\":\"98dffb4026c00d808bf692cb5b365774\",\"debug\":\"xswmwxwywzwwwowpwqwrw\"}]', u'key': u'photo'}, {u'value': u'124369270', u'key': u'group_id'}, {u'value': u'2bb5f6fa63dc12df8600b552b5280b87', u'key': u'hash'}, {u'value': u'631628', u'key': u'server'}]}}\n"
     ]
    }
   ],
   "source": [
    "#add_photo\n",
    "import requests\n",
    "url = 'https://api.vk.com/method/photos.saveWallPhoto'\n",
    "args_f = {'group_id':'124369270','photo':photo,'server':server,'hash':hash_photo,'access_token':user_token}\n",
    "load_photo = requests.get(url, params = args_f)\n",
    "ph = load_photo.json()\n",
    "print ph"
   ]
  },
  {
   "cell_type": "code",
   "execution_count": null,
   "metadata": {
    "collapsed": false
   },
   "outputs": [],
   "source": []
  }
 ],
 "metadata": {
  "kernelspec": {
   "display_name": "Python 2",
   "language": "python",
   "name": "python2"
  },
  "language_info": {
   "codemirror_mode": {
    "name": "ipython",
    "version": 2
   },
   "file_extension": ".py",
   "mimetype": "text/x-python",
   "name": "python",
   "nbconvert_exporter": "python",
   "pygments_lexer": "ipython2",
   "version": "2.7.10"
  }
 },
 "nbformat": 4,
 "nbformat_minor": 0
}
