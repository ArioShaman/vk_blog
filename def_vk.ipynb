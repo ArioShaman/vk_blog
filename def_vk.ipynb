{
 "cells": [
  {
   "cell_type": "code",
   "execution_count": 1,
   "metadata": {
    "collapsed": true
   },
   "outputs": [],
   "source": [
    "#import library\n",
    "import urllib\n",
    "import urllib2\n",
    "import requests\n",
    "import json\n",
    "import os.path\n",
    "import os\n",
    "import re"
   ]
  },
  {
   "cell_type": "code",
   "execution_count": 2,
   "metadata": {
    "collapsed": true
   },
   "outputs": [],
   "source": [
    "user_token = '3e4e2e26ac8cf2e178a8c53deb515c52b4bd3b5d5ef5f8e20e243051025cb36b75ed05976d0ead057b0e0'"
   ]
  },
  {
   "cell_type": "code",
   "execution_count": 3,
   "metadata": {
    "collapsed": false
   },
   "outputs": [
    {
     "data": {
      "text/plain": [
       "(u'[{\"photo\":\"75d61fde5b:w\",\"sizes\":[[\"s\",\"630525022\",\"37ff8\",\"coJxWwFBjhQ\",63,75],[\"m\",\"630525022\",\"37ff9\",\"7brLqSJvB5c\",110,130],[\"x\",\"630525022\",\"37ffa\",\"NEpAYu61Xpo\",513,604],[\"y\",\"630525022\",\"37ffb\",\"p0w9PjSg-DY\",686,807],[\"z\",\"630525022\",\"37ffc\",\"BgwAEWlM-Zg\",918,1080],[\"w\",\"630525022\",\"37ffd\",\"dz2xFCwwxJA\",1417,1667],[\"o\",\"630525022\",\"37ffe\",\"flBgaIfLBwY\",130,153],[\"p\",\"630525022\",\"37fff\",\"yCj5vvFurZk\",200,235],[\"q\",\"630525022\",\"38000\",\"LhhYcLNPhCs\",320,376],[\"r\",\"630525022\",\"38001\",\"nqKTWQjL_go\",510,600]],\"kid\":\"98dffb4026c00d808bf692cb5b365774\",\"debug\":\"xswmwxwywzwwwowpwqwrw\"}]',\n",
       " 630525,\n",
       " u'de5b031b676f55f96d81988e8d9e2c1f')"
      ]
     },
     "execution_count": 3,
     "metadata": {},
     "output_type": "execute_result"
    }
   ],
   "source": [
    "\n",
    "group_id = '-124369270'\n",
    "file_photo = 'grow.png'\n",
    "def get_server(token,group_id):\n",
    "    query_args = {'group_id':group_id,'access_token':user_token}\n",
    "    url = 'https://api.vk.com/method/photos.getWallUploadServer'\n",
    "    data = urllib.urlencode(query_args)\n",
    "    request = urllib2.Request(url,data)\n",
    "    response = urllib2.urlopen(request)\n",
    "    serv_data = response.read()\n",
    "    datas = json.loads(serv_data)\n",
    "    album_id = datas['response']['aid']\n",
    "    user_id = datas['response']['mid']\n",
    "    upload_url = datas['response']['upload_url']\n",
    "    return album_id, user_id, upload_url\n",
    "    \n",
    "\n",
    "\n",
    "def load_img(name):\n",
    "    dirrectory_half = '/home/user/myproject/vk_blog/Images'\n",
    "    name = file_photo\n",
    "    album_id, user_id, upload_url =get_server(user_token,group_id)\n",
    "    dir_file =os.path.join(dirrectory_half,file_photo)\n",
    "    load = {'file':open(file_photo,'rb')}\n",
    "    r = requests.post(upload_url, files = load)\n",
    "    server_data = r.json()\n",
    "    #print server_data\n",
    "    server = server_data['server']\n",
    "    photo = server_data['photo']\n",
    "    hash_photo = server_data['hash']\n",
    "    return photo, server, hash_photo\n",
    "    print 'photo:',photo\n",
    "    print 'server:  ',server\n",
    "    print 'hash:  ',hash_photo  \n",
    "\n",
    "load_img(file_photo)"
   ]
  },
  {
   "cell_type": "code",
   "execution_count": 7,
   "metadata": {
    "collapsed": false
   },
   "outputs": [
    {
     "name": "stdout",
     "output_type": "stream",
     "text": [
      "de5b031b676f55f96d81988e8d9e2c1f\n",
      "********************\n",
      "{u'error': {u'error_code': 121, u'error_msg': u'Invalid hash', u'request_params': [{u'value': u'1', u'key': u'oauth'}, {u'value': u'photos.saveWallPhoto', u'key': u'method'}, {u'value': u'sizes', u'key': u'photo'}, {u'value': u'124369270', u'key': u'group_id'}, {u'value': u'de5b031b676f55f96d81988e8d9e2c1f', u'key': u'hash'}, {u'value': u'630525', u'key': u'server'}]}}\n"
     ]
    }
   ],
   "source": [
    "def add_photo():\n",
    "    #photo, server, hash_photo = load_img(file_photo)\n",
    "    photo = \n",
    "    server = \"630525\"\n",
    "    hash_photo = \"de5b031b676f55f96d81988e8d9e2c1f\"\n",
    "    print hash_photo\n",
    "    print'*'*20\n",
    "    data_photo = load_img(file_photo)\n",
    "    url = 'https://api.vk.com/method/photos.saveWallPhoto'\n",
    "    args_f = {'group_id':'124369270','photo':photo,'server':server,'hash':hash_photo,'access_token':user_token}\n",
    "    data = requests.get(url, args_f)\n",
    "    html = data.json()\n",
    "    print html\n",
    "    \n",
    "ph = add_photo()\n"
   ]
  },
  {
   "cell_type": "code",
   "execution_count": 15,
   "metadata": {
    "collapsed": false
   },
   "outputs": [
    {
     "ename": "TypeError",
     "evalue": "expected string or buffer",
     "output_type": "error",
     "traceback": [
      "\u001b[1;31m---------------------------------------------------------------------------\u001b[0m",
      "\u001b[1;31mTypeError\u001b[0m                                 Traceback (most recent call last)",
      "\u001b[1;32m<ipython-input-15-ba4a78cbb19c>\u001b[0m in \u001b[0;36m<module>\u001b[1;34m()\u001b[0m\n\u001b[0;32m      1\u001b[0m \u001b[0mphoto\u001b[0m\u001b[1;33m,\u001b[0m \u001b[0mserver\u001b[0m\u001b[1;33m,\u001b[0m \u001b[0mhash_photo\u001b[0m \u001b[1;33m=\u001b[0m \u001b[0mload_img\u001b[0m\u001b[1;33m(\u001b[0m\u001b[0mfile_photo\u001b[0m\u001b[1;33m)\u001b[0m\u001b[1;33m\u001b[0m\u001b[0m\n\u001b[0;32m      2\u001b[0m \u001b[0mchange_photo\u001b[0m \u001b[1;33m=\u001b[0m \u001b[0mre\u001b[0m\u001b[1;33m.\u001b[0m\u001b[0msplit\u001b[0m\u001b[1;33m(\u001b[0m\u001b[1;34mr'{'\u001b[0m\u001b[1;33m,\u001b[0m \u001b[0mphoto\u001b[0m\u001b[1;33m)\u001b[0m\u001b[1;33m\u001b[0m\u001b[0m\n\u001b[1;32m----> 3\u001b[1;33m \u001b[0mchange_photo_2\u001b[0m \u001b[1;33m=\u001b[0m \u001b[0mre\u001b[0m\u001b[1;33m.\u001b[0m\u001b[0msplit\u001b[0m\u001b[1;33m(\u001b[0m\u001b[1;34mr'}'\u001b[0m\u001b[1;33m,\u001b[0m \u001b[0mchange_photo\u001b[0m\u001b[1;33m)\u001b[0m\u001b[1;33m\u001b[0m\u001b[0m\n\u001b[0m\u001b[0;32m      4\u001b[0m \u001b[1;32mprint\u001b[0m \u001b[0mchange_photo\u001b[0m\u001b[1;33m\u001b[0m\u001b[0m\n",
      "\u001b[1;32m/usr/lib/python2.7/re.pyc\u001b[0m in \u001b[0;36msplit\u001b[1;34m(pattern, string, maxsplit, flags)\u001b[0m\n\u001b[0;32m    169\u001b[0m     \"\"\"Split the source string by the occurrences of the pattern,\n\u001b[0;32m    170\u001b[0m     returning a list containing the resulting substrings.\"\"\"\n\u001b[1;32m--> 171\u001b[1;33m     \u001b[1;32mreturn\u001b[0m \u001b[0m_compile\u001b[0m\u001b[1;33m(\u001b[0m\u001b[0mpattern\u001b[0m\u001b[1;33m,\u001b[0m \u001b[0mflags\u001b[0m\u001b[1;33m)\u001b[0m\u001b[1;33m.\u001b[0m\u001b[0msplit\u001b[0m\u001b[1;33m(\u001b[0m\u001b[0mstring\u001b[0m\u001b[1;33m,\u001b[0m \u001b[0mmaxsplit\u001b[0m\u001b[1;33m)\u001b[0m\u001b[1;33m\u001b[0m\u001b[0m\n\u001b[0m\u001b[0;32m    172\u001b[0m \u001b[1;33m\u001b[0m\u001b[0m\n\u001b[0;32m    173\u001b[0m \u001b[1;32mdef\u001b[0m \u001b[0mfindall\u001b[0m\u001b[1;33m(\u001b[0m\u001b[0mpattern\u001b[0m\u001b[1;33m,\u001b[0m \u001b[0mstring\u001b[0m\u001b[1;33m,\u001b[0m \u001b[0mflags\u001b[0m\u001b[1;33m=\u001b[0m\u001b[1;36m0\u001b[0m\u001b[1;33m)\u001b[0m\u001b[1;33m:\u001b[0m\u001b[1;33m\u001b[0m\u001b[0m\n",
      "\u001b[1;31mTypeError\u001b[0m: expected string or buffer"
     ]
    }
   ],
   "source": [
    "photo, server, hash_photo = load_img(file_photo)\n",
    "change_photo = re.split(r'{', photo)\n",
    "change_photo_2 = re.split(r'}', change_photo)\n",
    "print change_photo"
   ]
  }
 ],
 "metadata": {
  "kernelspec": {
   "display_name": "Python 2",
   "language": "python",
   "name": "python2"
  },
  "language_info": {
   "codemirror_mode": {
    "name": "ipython",
    "version": 2
   },
   "file_extension": ".py",
   "mimetype": "text/x-python",
   "name": "python",
   "nbconvert_exporter": "python",
   "pygments_lexer": "ipython2",
   "version": "2.7.10"
  }
 },
 "nbformat": 4,
 "nbformat_minor": 0
}
