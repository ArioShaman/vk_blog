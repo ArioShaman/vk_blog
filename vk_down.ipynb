{
 "cells": [
  {
   "cell_type": "markdown",
   "metadata": {},
   "source": [
    "# Аргументы\n",
    "\n",
    "* sex: 1 - wooman, 2 - man"
   ]
  },
  {
   "cell_type": "code",
   "execution_count": 16,
   "metadata": {
    "collapsed": false
   },
   "outputs": [],
   "source": [
    "# coding= utf-8\n",
    "# -*- coding: utf-8 -*-\n",
    "import requests\n",
    "import random as rd\n",
    "SEX = 1\n",
    "UID = 223975236\n",
    "#200345236\n",
    "def get_list(sex,uid):\n",
    "    mans = []\n",
    "    lendth = 0\n",
    "    ider = uid\n",
    "    iter_uid = ider + 200\n",
    "    fragment = {}\n",
    "    while ider != iter_uid:\n",
    "        r = requests.get('http://api.vk.com/method/users.get', params={'user_ids':ider,'fields':'sex, city,photo_max_orig,first_name, last_name'})\n",
    "        data = r.json()\n",
    "        sex_m = data['response'][0]['sex']\n",
    "        #city = data['response'][0]['city']\n",
    "        photo = data['response'][0]['photo_max_orig']\n",
    "        l_name = data['response'][0]['last_name']\n",
    "        f_name = data['response'][0]['first_name']\n",
    "        if sex_m == sex:\n",
    "            mans.append(data)\n",
    "        #print l_name, f_name, sex_m\n",
    "        ider = ider + 1\n",
    "        \"\"\"\n",
    "        fragment['uid'] = ider\n",
    "        fragment['sex'] = sex_m\n",
    "        fragment['last_name'] = l_name\n",
    "        fragment['first_name'] = f_name \n",
    "        mans.append(fragment)    \n",
    "        \n",
    "        \"\"\"\n",
    "    return mans\n",
    "    \n",
    "datas = get_list(SEX, UID)"
   ]
  },
  {
   "cell_type": "code",
   "execution_count": 5,
   "metadata": {
    "collapsed": false
   },
   "outputs": [
    {
     "data": {
      "text/plain": [
       "'\\ndef load_img(datas):\\n    oooo = \\'0000\\'\\n    ooo = \\'000\\'\\n    oo = \\'00\\'\\n    o = \\'0\\'\\n    x = 0\\n    index = len(os.listdir(\"./images\"))\\n    lend = len(datas)\\n    for x in xrange(len(datas)):\\n        uid = datas[x][\\'response\\'][0][\\'uid\\']\\n        sex = datas[x][\\'response\\'][0][\\'sex\\']\\n        l_name = datas[x][\\'response\\'][0][\\'last_name\\']\\n        f_name = datas[x][\\'response\\'][0][\\'first_name\\']\\n        photo = datas[x][\\'response\\'][0][\\'photo_max_orig\\']\\n        img = urllib.urlopen(photo).read()\\n        if index < 10:\\n            half_img_name = oooo\\n        if  index > 10 and x <100:\\n            half_img_name = ooo\\n        if index > 100 and x < 1000:\\n            half_img_name = oo\\n        if x > 1000 and x < 10000:\\n            half_img_name = o\\n        name = half_img_name + str(x)\\n        f = open(\\'images/%s.png\\'%name,\\'wb\\')\\n        f.write(img)\\n        f.close()\\n        str_data = \\'name img: %s    FI:    %s %s  id: %s  votes: 0  url_img: %s \\n\\'%(name,l_name, f_name, uid, photo)\\n        str_data = str_data.encode(encoding=\\'UTF-8\\',errors=\\'strict\\')\\n\\n        d = open(\\'data.txt\\',\\'a\\')\\n        d.write(str_data)\\n        d.close()\\n        #x = x + 1\\n        index = index + 1\\n        \\nload_img(datas)\\n'"
      ]
     },
     "execution_count": 5,
     "metadata": {},
     "output_type": "execute_result"
    }
   ],
   "source": [
    "# coding= utf-8\n",
    "# -*- coding: utf-8 -*-\n",
    "import os\n",
    "import urllib\n",
    "#print datas\n",
    "\"\"\"\n",
    "def load_img(datas):\n",
    "    oooo = '0000'\n",
    "    ooo = '000'\n",
    "    oo = '00'\n",
    "    o = '0'\n",
    "    x = 0\n",
    "    index = len(os.listdir(\"./images\"))\n",
    "    lend = len(datas)\n",
    "    for x in xrange(len(datas)):\n",
    "        uid = datas[x]['response'][0]['uid']\n",
    "        sex = datas[x]['response'][0]['sex']\n",
    "        l_name = datas[x]['response'][0]['last_name']\n",
    "        f_name = datas[x]['response'][0]['first_name']\n",
    "        photo = datas[x]['response'][0]['photo_max_orig']\n",
    "        img = urllib.urlopen(photo).read()\n",
    "        if index < 10:\n",
    "            half_img_name = oooo\n",
    "        if  index > 10 and x <100:\n",
    "            half_img_name = ooo\n",
    "        if index > 100 and x < 1000:\n",
    "            half_img_name = oo\n",
    "        if x > 1000 and x < 10000:\n",
    "            half_img_name = o\n",
    "        name = half_img_name + str(x)\n",
    "        f = open('images/%s.png'%name,'wb')\n",
    "        f.write(img)\n",
    "        f.close()\n",
    "        str_data = 'name img: %s    FI:    %s %s  id: %s  votes: 0  url_img: %s \\n'%(name,l_name, f_name, uid, photo)\n",
    "        str_data = str_data.encode(encoding='UTF-8',errors='strict')\n",
    "\n",
    "        d = open('data.txt','a')\n",
    "        d.write(str_data)\n",
    "        d.close()\n",
    "        #x = x + 1\n",
    "        index = index + 1\n",
    "        \n",
    "load_img(datas)\n",
    "\"\"\""
   ]
  },
  {
   "cell_type": "code",
   "execution_count": 30,
   "metadata": {
    "collapsed": false
   },
   "outputs": [
    {
     "name": "stdout",
     "output_type": "stream",
     "text": [
      "bzg-KDKX0Vk.jpg\n",
      "m7l6FtrfUio.jpg\n",
      "IpXAgLfz_yY.jpg\n",
      "mUUcvo5IsrE.jpg\n",
      "NN8sXJ7g-pg.jpg\n",
      "KmTz8cLnH-k.jpg\n",
      "0ks3oZGs_HM.jpg\n",
      "CvTEs7kmlF8.jpg\n",
      "H5Aj653cXzw.jpg\n",
      "pwzpYanQNa0.jpg\n",
      "IwViBpv8w-4.jpg\n",
      "1xcOxXLqSn8.jpg\n",
      "2RB2bHnGaDE.jpg\n",
      "upUpPwB7rPw.jpg\n",
      "PvSgJrrRCC0.jpg\n",
      "vDmknffo8vo.jpg\n",
      "JnHhurSq3_M.jpg\n",
      "SsO3a_VR8zE.jpg\n",
      "wG6IEzAx3zc.jpg\n",
      "YZOkdfg-XX4.jpg\n",
      "yM-Ku4XAHjM.jpg\n",
      "1VWRXoPerbI.jpg\n",
      "ubfaleD2_RI.jpg\n",
      "VVxq9UkgPZI.jpg\n",
      "pb-JDSd2rVY.jpg\n",
      "tX32V7JPky8.jpg\n",
      "a0aQ4sPvaos.jpg\n",
      "eLGpd1-9JWQ.jpg\n",
      "OTYdFqqubJg.jpg\n",
      "K2Nb9_rUc6U.jpg\n",
      "7XcAf2yiF_I.jpg\n",
      "zSbnoVSTnlA.jpg\n",
      "gayioTebFfc.jpg\n",
      "w4-faXgIvXw.jpg\n",
      "C7SLRLIhIj0.jpg\n",
      "OtqOYhQRbYU.jpg\n",
      "xy5yKDf1RJc.jpg\n",
      "Q9jfMHKGXUM.jpg\n",
      "SSsZWLz-3PQ.jpg\n",
      "P0VPfwS6p4o.jpg\n",
      "xfe-9d52Ulc.jpg\n",
      "mUsfbt9A1gE.jpg\n",
      "0VlGTMjpnpo.jpg\n",
      "eGMTFxFzCwA.jpg\n",
      "7AnlOH4EiGU.jpg\n",
      "gbd3anuVkrQ.jpg\n",
      "aORe2NwtBT4.jpg\n",
      "yb9ngPwS_lU.jpg\n",
      "-tozHYhHflM.jpg\n",
      "m0057CamaSM.jpg\n",
      "BN77T8VAnb8.jpg\n",
      "rLrrjhecmSE.jpg\n",
      "aHcjhB9zZmA.jpg\n",
      "NtoIxDkud_c.jpg\n",
      "rwdx2XcKYQk.jpg\n",
      "Fhi8Po85j7w.jpg\n",
      "0AmIkcArYpQ.jpg\n",
      "Uyu_1vyM73o.jpg\n",
      "iPmnJG9Y3QM.jpg\n",
      "BNjF3-eBf-o.jpg\n",
      "tM25FaPVoRw.jpg\n",
      "-BT4w3oOgoA.jpg\n",
      "gEmbRHTbmfw.jpg\n",
      "9jeEzflTZHY.jpg\n",
      "eFh8ytifN0c.jpg\n",
      "la2e64Td6Eg.jpg\n",
      "iM_xImQ8Nkk.jpg\n",
      "Aa3QVQlLP-8.jpg\n",
      "V5g38EneIQY.jpg\n",
      "XtQaGtvGPes.jpg\n",
      "K1Zs82lxsw0.jpg\n",
      "8fXUMdAVIxQ.jpg\n",
      "TtBcg9_ypa8.jpg\n",
      "EHBp63q2P54.jpg\n",
      "NF4gEX70JWQ.jpg\n",
      "kED7xravNyA.jpg\n"
     ]
    }
   ],
   "source": [
    "import os\n",
    "import os.path\n",
    "list_img = os.listdir('./images')\n",
    "#print list_img\n",
    "new_list = []\n",
    "def renaming():\n",
    "    oo = '00'\n",
    "    o = '0'\n",
    "    index = 1\n",
    "    #print os.path.exists('images/0ks3oZGs_HM.jpg')\n",
    "    for x in xrange(len(list_img)):\n",
    "        a = list_img[x]\n",
    "        print a\n",
    "        if x<10:\n",
    "            half_nm = oo\n",
    "        if x >=10 and x < 100:\n",
    "            half_nm = o\n",
    "        name = half_nm + str(index)\n",
    "        os.rename('images/%s'%a,'images/%s.jpg'%name)\n",
    "        s = '%s   votes: 0 \\n'%name\n",
    "        f = open('data.txt','a')\n",
    "        f.write(s)\n",
    "        f.close()\n",
    "        \n",
    "        index = index + 1\n",
    "        \n",
    "renaming()"
   ]
  },
  {
   "cell_type": "code",
   "execution_count": null,
   "metadata": {
    "collapsed": true
   },
   "outputs": [],
   "source": [
    "os.li"
   ]
  },
  {
   "cell_type": "code",
   "execution_count": 48,
   "metadata": {
    "collapsed": false
   },
   "outputs": [],
   "source": [
    "import urllib\n",
    "logo = urllib.urlopen(\"http://cs636421.vk.me/v636421022/11c70/DNa8vqpSnX4.jpg\").read()\n",
    "f = open(\"images/avatar.png\", \"wb\")\n",
    "f.write(logo)\n",
    "f.close()"
   ]
  },
  {
   "cell_type": "code",
   "execution_count": 104,
   "metadata": {
    "collapsed": false
   },
   "outputs": [
    {
     "data": {
      "text/plain": [
       "40"
      ]
     },
     "execution_count": 104,
     "metadata": {},
     "output_type": "execute_result"
    }
   ],
   "source": [
    "len(datas)"
   ]
  },
  {
   "cell_type": "code",
   "execution_count": 89,
   "metadata": {
    "collapsed": false
   },
   "outputs": [
    {
     "name": "stdout",
     "output_type": "stream",
     "text": [
      "{u'response': [{u'city': 2, u'first_name': u'\\u0414\\u0430\\u043d\\u0438\\u0438\\u043b', u'last_name': u'\\u041c\\u0430\\u0442\\u0432\\u0435\\u0435\\u0432', u'uid': 246933022, u'sex': 2, u'followers_count': 89, u'photo_max_orig': u'http://cs636421.vk.me/v636421022/11c70/DNa8vqpSnX4.jpg'}]}\n",
      "********************\n",
      "2\n"
     ]
    }
   ],
   "source": [
    "# coding=utf-8\n",
    "import requests\n",
    "import random as rd\n",
    "L = []\n",
    "r = requests.get('http://api.vk.com/method/users.get', params={'user_ids':'ariosha6','fields':'sex, city,photo_max_orig, followers_count'})\n",
    "a = r.json()\n",
    "print a\n",
    "print '*'*20\n",
    "city_m = a['response'][0]['city']\n",
    "print city_m\n",
    "#L.append(b)\n",
    "#L.append(b)\n",
    "#print L\n",
    "#print '*'*20\n",
    "#list(enumerate(a['response']))"
   ]
  },
  {
   "cell_type": "code",
   "execution_count": null,
   "metadata": {
    "collapsed": true
   },
   "outputs": [],
   "source": [
    "#https://oauth.vk.com/blank.html\n",
    "#access_token=2406c530d40845ebd4e635e6e194fb6b716c9648cbb287feaf6cb2e8b7e95869b0cbec25468b1a39b9ac5&expires_in=86400&user_id=246933022"
   ]
  },
  {
   "cell_type": "code",
   "execution_count": 1,
   "metadata": {
    "collapsed": true
   },
   "outputs": [],
   "source": [
    "#https://oauth.vk.com/authorize?client_id=5525208&display=page&redirect_uri=https://oauth.vk.com/blank.html"
   ]
  },
  {
   "cell_type": "code",
   "execution_count": 1,
   "metadata": {
    "collapsed": false
   },
   "outputs": [
    {
     "name": "stdout",
     "output_type": "stream",
     "text": [
      "{u'response': [{u'city': 552, u'first_name': u'\\u0414\\u0430\\u043d\\u0438\\u0438\\u043b', u'last_name': u'\\u041c\\u0430\\u0442\\u0432\\u0435\\u0435\\u0432', u'uid': 246933022, u'sex': 2, u'photo_max_orig': u'http://cs636421.vk.me/v636421022/11c70/DNa8vqpSnX4.jpg'}]}\n"
     ]
    }
   ],
   "source": [
    "# coding= utf-8\n",
    "# -*- coding: utf-8 -*-\n",
    "import requests\n",
    "r = requests.get('http://api.vk.com/method/users.get', params={'user_ids':'ariosha6','fields':'sex, city,photo_max_orig,first_name, last_name'})\n",
    "dataL = r.json()\n",
    "print dataL"
   ]
  }
 ],
 "metadata": {
  "kernelspec": {
   "display_name": "Python 2",
   "language": "python",
   "name": "python2"
  },
  "language_info": {
   "codemirror_mode": {
    "name": "ipython",
    "version": 2
   },
   "file_extension": ".py",
   "mimetype": "text/x-python",
   "name": "python",
   "nbconvert_exporter": "python",
   "pygments_lexer": "ipython2",
   "version": "2.7.10"
  }
 },
 "nbformat": 4,
 "nbformat_minor": 0
}
